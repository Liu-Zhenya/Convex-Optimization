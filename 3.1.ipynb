{
 "cells": [
  {
   "cell_type": "code",
   "execution_count": 24,
   "metadata": {},
   "outputs": [
    {
     "name": "stdout",
     "output_type": "stream",
     "text": [
      "\n",
      "The optimal value is 1.8750000000000007\n",
      "A solution (x_1,x_2) is\n",
      "0.25 0.7500000000000002\n"
     ]
    }
   ],
   "source": [
    "# Import packages.\n",
    "import cvxpy as cp\n",
    "import numpy as np\n",
    "\n",
    "\n",
    "\n",
    "# Define and solve the CVXPY problem.\n",
    "x_1 = cp.Variable()\n",
    "x_2 = cp.Variable()\n",
    "\n",
    "# objective =cp.Minimize(2*x_1**2 + x_2**2 + x_1 * x_2 +  x_1 + x_2)\n",
    "objective =cp.Minimize((x_1 + 0.5*x_2)**2 + x_1**2 + 0.75*x_2**2 +  x_1 + x_2)\n",
    "\n",
    "constrains =[x_1 >=0, x_2>= 0, x_1+x_2==1]\n",
    "prob = cp.Problem(objective,constrains)\n",
    "prob.solve()\n",
    "\n",
    "# Print result.\n",
    "print(\"\\nThe optimal value is\", prob.value)\n",
    "print(\"A solution (x_1,x_2) is\")\n",
    "print(x_1.value,x_2.value)\n",
    "# print(\"A dual solution is\")\n",
    "# print(prob.constraints[0].dual_value)"
   ]
  }
 ],
 "metadata": {
  "kernelspec": {
   "display_name": "base",
   "language": "python",
   "name": "python3"
  },
  "language_info": {
   "codemirror_mode": {
    "name": "ipython",
    "version": 3
   },
   "file_extension": ".py",
   "mimetype": "text/x-python",
   "name": "python",
   "nbconvert_exporter": "python",
   "pygments_lexer": "ipython3",
   "version": "3.10.9"
  }
 },
 "nbformat": 4,
 "nbformat_minor": 2
}
