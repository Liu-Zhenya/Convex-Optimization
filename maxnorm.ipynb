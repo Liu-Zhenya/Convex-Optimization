{
 "cells": [
  {
   "cell_type": "code",
   "execution_count": 2,
   "metadata": {},
   "outputs": [],
   "source": [
    "import numpy as np\n",
    "import cvxpy as cp\n",
    "from cvxpy import*\n",
    "import time\n",
    "\n",
    "def gen_ratings(n,m,p):\n",
    "    \"\"\"\n",
    "    Inputs:\n",
    "        n: the number of users\n",
    "        m: the number of movies\n",
    "        p: the number of observed ratings\n",
    "    Returns:\n",
    "        Y: a list of p ratings in {-1, 1}\n",
    "        S: a list of p tuples (i,j), 0 <= i < n, 0 <= j < m\n",
    "\n",
    "        For 0 <= k < p, y[k] is the rating given by user S[k][0]\n",
    "        for movie S[k][1]\n",
    "    \"\"\"\n",
    "    if p > m*n:\n",
    "        print('You asked for more ratings than m*n!')\n",
    "        return [],[]\n",
    "    np.random.seed(0) # makes this deterministic\n",
    "    Y = 2.*np.random.randint(0,2,(n,m)) - 1. # generates +1/-1 ratings\n",
    "    mask = np.random.rand(n,m) # samples an nxm array of random numbers in [0,1]\n",
    "    cutoff = np.sort(mask.reshape(-1))[-p] # finds the pth largest number in mask\n",
    "    # mask = 1*(mask <= cutoff) # mask[i,j] = 1 for p of the i,j, 0 everywhere else\n",
    "    Y = Y[mask >= cutoff] # ratings to be returned\n",
    "    S = np.argwhere(mask >= cutoff) # indices of ratings\n",
    "    return Y, S\n",
    "\n"
   ]
  },
  {
   "cell_type": "code",
   "execution_count": 13,
   "metadata": {},
   "outputs": [],
   "source": [
    "def solving_SDP(n,m,p,Y,S):\n",
    "    start_time = time.time()\n",
    "\n",
    "\n",
    "    A = cp.Variable((n,n), PSD = True)  \n",
    "    B = cp.Variable((m,m), PSD = True)  \n",
    "    X = cp.Variable((n,m))  \n",
    "    V = cp.bmat([[A, X], [X.T, B]])\n",
    "    objective =  cp.maximum(cp.max(cp.diag(A)),cp.max(cp.diag(B)))\n",
    "\n",
    "    constraints = [V >> 0]\n",
    "    constraints += [\n",
    "    X[S[i][0],S[i][1]] * Y[i] >= 1 for i in range(p)\n",
    "]\n",
    "    problem = cp.Problem(cp.Minimize(objective), constraints)\n",
    "    problem.solve()\n",
    "    print(\"Optimal value of the rate matrix is \\n\", X.value)\n",
    "\n",
    "\n",
    "\n",
    "    end_time = time.time()\n",
    "    elapsed_time = end_time - start_time\n",
    "\n",
    "    print(f'elapsed time is \\n {elapsed_time}')\n",
    "\n",
    "\n",
    "    "
   ]
  },
  {
   "cell_type": "code",
   "execution_count": 19,
   "metadata": {},
   "outputs": [
    {
     "name": "stdout",
     "output_type": "stream",
     "text": [
      "Optimal value of the rate matrix is \n",
      " [[-1.12463858  0.9999901   1.00000185 ...  1.64752088  1.00000388\n",
      "  -0.99997938]\n",
      " [ 1.00002011 -1.61992934 -0.99999409 ...  0.99998326 -1.00000943\n",
      "  -0.99999453]\n",
      " [ 1.0000321  -0.99998749  1.00000304 ... -1.00002174  0.99999863\n",
      "   1.00001208]\n",
      " ...\n",
      " [ 0.99998531 -0.99999481  0.99999354 ...  1.00000841  1.00000066\n",
      "   0.99998   ]\n",
      " [ 0.99996721  0.99999461  0.99999281 ...  1.00002579 -1.00000099\n",
      "  -1.00002207]\n",
      " [ 0.99999574  0.9999978   0.99999305 ... -1.00000481  0.99999495\n",
      "  -1.04863923]]\n",
      "elapsed time is \n",
      " 19.006376266479492\n"
     ]
    }
   ],
   "source": [
    "n=100\n",
    "m=100\n",
    "p=10000\n",
    "\n",
    "Y,S = gen_ratings(n,m,p)\n",
    "\n",
    "solving_SDP(n,m,p,Y,S)"
   ]
  }
 ],
 "metadata": {
  "kernelspec": {
   "display_name": "base",
   "language": "python",
   "name": "python3"
  },
  "language_info": {
   "codemirror_mode": {
    "name": "ipython",
    "version": 3
   },
   "file_extension": ".py",
   "mimetype": "text/x-python",
   "name": "python",
   "nbconvert_exporter": "python",
   "pygments_lexer": "ipython3",
   "version": "3.10.9"
  }
 },
 "nbformat": 4,
 "nbformat_minor": 2
}
