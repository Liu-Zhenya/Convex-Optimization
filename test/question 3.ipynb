{
 "cells": [
  {
   "cell_type": "code",
   "execution_count": 21,
   "id": "3ef9f442",
   "metadata": {},
   "outputs": [],
   "source": [
    "import numpy as np\n",
    "import algorithms as alg\n",
    "import functions as functions"
   ]
  },
  {
   "cell_type": "code",
   "execution_count": 22,
   "id": "9fc48698",
   "metadata": {},
   "outputs": [],
   "source": [
    "############## 1 dimensional data toy example\n",
    "d=1\n",
    "y=np.matrix('1.0;1.0;1.0;1.0;-1.0;-1.0;-1.0;-1.0')\n",
    "X=np.matrix('8.0;7.0;6.0;5.0;4.0;3.0;2.0;1.0')\n",
    "\n",
    "\n",
    "\n",
    "###########Form the oracle function of the objective\n",
    "def func(w, order):\n",
    "    return functions.logistic(y, X, w, order)\n",
    "\n",
    "\n",
    "#############Intialized at 0\n",
    "initial_w = np.asmatrix( np.zeros( shape=(d,1) ) )\n",
    "err = 1e-4\n",
    "maximum_iterations = 65536\n",
    "\n",
    "M = 1000 # set M to be large"
   ]
  },
  {
   "cell_type": "code",
   "execution_count": 23,
   "id": "e6cda2e5",
   "metadata": {},
   "outputs": [],
   "source": [
    "# Run the algorithms with backtracking line search\n",
    "x_2, values_2, runtimes_2, xs_2 = alg.gradient_descent(func, initial_w, err, maximum_iterations, alg.backtracking)\n",
    "\n",
    "# Run the algorithms with fixed step size 1/M \n",
    "x_t, values_t, runtimes_t, xs_t = alg.gradient_descent(func, initial_w, err, maximum_iterations, alg.poly, 1/M, 0)"
   ]
  },
  {
   "cell_type": "code",
   "execution_count": 25,
   "id": "e1fe5daa",
   "metadata": {},
   "outputs": [
    {
     "ename": "ValueError",
     "evalue": "Too many iterations",
     "output_type": "error",
     "traceback": [
      "\u001b[0;31m---------------------------------------------------------------------------\u001b[0m",
      "\u001b[0;31mValueError\u001b[0m                                Traceback (most recent call last)",
      "Cell \u001b[0;32mIn[25], line 2\u001b[0m\n\u001b[1;32m      1\u001b[0m \u001b[38;5;66;03m# Run the algorithms with backtracking line search\u001b[39;00m\n\u001b[0;32m----> 2\u001b[0m x_2, values_2, runtimes_2, xs_2 \u001b[38;5;241m=\u001b[39m \u001b[43malg\u001b[49m\u001b[38;5;241;43m.\u001b[39;49m\u001b[43mgradient_descent\u001b[49m\u001b[43m(\u001b[49m\u001b[43mfunc\u001b[49m\u001b[43m,\u001b[49m\u001b[43m \u001b[49m\u001b[43minitial_w\u001b[49m\u001b[43m,\u001b[49m\u001b[43m \u001b[49m\u001b[43merr\u001b[49m\u001b[43m,\u001b[49m\u001b[43m \u001b[49m\u001b[43mmaximum_iterations\u001b[49m\u001b[43m,\u001b[49m\u001b[43m \u001b[49m\u001b[43malg\u001b[49m\u001b[38;5;241;43m.\u001b[39;49m\u001b[43mbacktracking\u001b[49m\u001b[43m)\u001b[49m\n",
      "File \u001b[0;32m~/homework/Convex-Optimization/test/algorithms.py:198\u001b[0m, in \u001b[0;36mgradient_descent\u001b[0;34m(func, initial_x, err, maximum_iterations, linesearch, *linesearch_args)\u001b[0m\n\u001b[1;32m    195\u001b[0m \u001b[38;5;66;03m#direction =  TODO: Search Direction #######################\u001b[39;00m\n\u001b[1;32m    196\u001b[0m direction \u001b[38;5;241m=\u001b[39m \u001b[38;5;241m-\u001b[39mgradient\n\u001b[0;32m--> 198\u001b[0m t \u001b[38;5;241m=\u001b[39m \u001b[43mlinesearch\u001b[49m\u001b[43m(\u001b[49m\u001b[43mfunc\u001b[49m\u001b[43m,\u001b[49m\u001b[43m \u001b[49m\u001b[43mx\u001b[49m\u001b[43m,\u001b[49m\u001b[43m \u001b[49m\u001b[43mdirection\u001b[49m\u001b[43m,\u001b[49m\u001b[43m \u001b[49m\u001b[43miterations\u001b[49m\u001b[43m,\u001b[49m\u001b[43m \u001b[49m\u001b[38;5;241;43m*\u001b[39;49m\u001b[43mlinesearch_args\u001b[49m\u001b[43m)\u001b[49m\n\u001b[1;32m    200\u001b[0m x \u001b[38;5;241m+\u001b[39m\u001b[38;5;241m=\u001b[39m t \u001b[38;5;241m*\u001b[39m direction\n\u001b[1;32m    202\u001b[0m iterations \u001b[38;5;241m+\u001b[39m\u001b[38;5;241m=\u001b[39m \u001b[38;5;241m1\u001b[39m\n",
      "File \u001b[0;32m~/homework/Convex-Optimization/test/algorithms.py:133\u001b[0m, in \u001b[0;36mbacktracking\u001b[0;34m(func, x, direction, T, alpha, beta, maximum_iterations)\u001b[0m\n\u001b[1;32m    131\u001b[0m     iterations \u001b[38;5;241m+\u001b[39m\u001b[38;5;241m=\u001b[39m \u001b[38;5;241m1\u001b[39m\n\u001b[1;32m    132\u001b[0m     \u001b[38;5;28;01mif\u001b[39;00m iterations \u001b[38;5;241m>\u001b[39m\u001b[38;5;241m=\u001b[39m maximum_iterations:\n\u001b[0;32m--> 133\u001b[0m         \u001b[38;5;28;01mraise\u001b[39;00m \u001b[38;5;167;01mValueError\u001b[39;00m(\u001b[38;5;124m\"\u001b[39m\u001b[38;5;124mToo many iterations\u001b[39m\u001b[38;5;124m\"\u001b[39m)\n\u001b[1;32m    135\u001b[0m \u001b[38;5;28;01mreturn\u001b[39;00m t\n",
      "\u001b[0;31mValueError\u001b[0m: Too many iterations"
     ]
    }
   ],
   "source": []
  }
 ],
 "metadata": {
  "kernelspec": {
   "display_name": "Python 3 (ipykernel)",
   "language": "python",
   "name": "python3"
  },
  "language_info": {
   "codemirror_mode": {
    "name": "ipython",
    "version": 3
   },
   "file_extension": ".py",
   "mimetype": "text/x-python",
   "name": "python",
   "nbconvert_exporter": "python",
   "pygments_lexer": "ipython3",
   "version": "3.10.9"
  }
 },
 "nbformat": 4,
 "nbformat_minor": 5
}
