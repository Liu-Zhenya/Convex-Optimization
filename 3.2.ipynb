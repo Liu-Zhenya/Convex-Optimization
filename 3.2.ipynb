{
 "cells": [
  {
   "cell_type": "code",
   "execution_count": 8,
   "metadata": {},
   "outputs": [
    {
     "name": "stdout",
     "output_type": "stream",
     "text": [
      "\n",
      "The optimal value is -2.109151137073927\n",
      "A solution p is\n",
      "[9.66149345e-03 2.87346951e-02 6.70061852e-02 1.22509322e-01\n",
      " 1.75618116e-01 1.97385582e-01 1.73943208e-01 1.20183669e-01\n",
      " 6.51072535e-02 2.76540815e-02 9.20947937e-03 2.40467875e-03\n",
      " 4.92295971e-04 7.90224144e-05 9.94651763e-06 9.69525598e-07]\n"
     ]
    },
    {
     "name": "stderr",
     "output_type": "stream",
     "text": [
      "/home/zhenya/anaconda3/lib/python3.10/site-packages/cvxpy/reductions/solvers/solving_chain.py:336: FutureWarning: \n",
      "    Your problem is being solved with the ECOS solver by default. Starting in \n",
      "    CVXPY 1.5.0, Clarabel will be used as the default solver instead. To continue \n",
      "    using ECOS, specify the ECOS solver explicitly using the ``solver=cp.ECOS`` \n",
      "    argument to the ``problem.solve`` method.\n",
      "    \n",
      "  warnings.warn(ECOS_DEPRECATION_MSG, FutureWarning)\n"
     ]
    }
   ],
   "source": [
    "import cvxpy as cp\n",
    "import numpy as np\n",
    "\n",
    "# Generate a random non-trivial quadratic program.\n",
    "\n",
    "n = 16\n",
    "\n",
    "Ones = np.ones(16)\n",
    "K = np.arange(16)+1\n",
    "\n",
    "\n",
    "# Define and solve the CVXPY problem.\n",
    "p = cp.Variable(n)\n",
    "prob = cp.Problem(cp.Minimize(-cp.sum(cp.entr(p))), [p >= 0, cp.sum(p)==1, p @ K ==6, p @ K**2 == 40])\n",
    "prob.solve()\n",
    "\n",
    "# Print result.\n",
    "print(\"\\nThe optimal value is\", prob.value)\n",
    "print(\"A solution p is\")\n",
    "print(p.value)\n",
    "# print(\"A dual solution corresponding to the inequality constraints is\")\n",
    "# print(prob.constraints[0].dual_value)"
   ]
  }
 ],
 "metadata": {
  "kernelspec": {
   "display_name": "base",
   "language": "python",
   "name": "python3"
  },
  "language_info": {
   "codemirror_mode": {
    "name": "ipython",
    "version": 3
   },
   "file_extension": ".py",
   "mimetype": "text/x-python",
   "name": "python",
   "nbconvert_exporter": "python",
   "pygments_lexer": "ipython3",
   "version": "3.10.9"
  }
 },
 "nbformat": 4,
 "nbformat_minor": 2
}
